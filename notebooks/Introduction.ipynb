{
 "cells": [
  {
   "cell_type": "markdown",
   "id": "bcdb3fc7",
   "metadata": {},
   "source": [
    "This notebook illustrates how to launch the volume visualizations in Jupyter notebooks."
   ]
  },
  {
   "cell_type": "code",
   "execution_count": null,
   "id": "9cc5b051",
   "metadata": {},
   "outputs": [],
   "source": [
    "from volume_gizmos import SegmentationQuad"
   ]
  },
  {
   "cell_type": "code",
   "execution_count": null,
   "id": "ae61bf97",
   "metadata": {},
   "outputs": [],
   "source": [
    "labels_path = \"../example_data/l24.npz\"\n",
    "intensities_path = \"../example_data/i24.npz\"\n",
    "quad = await SegmentationQuad.quad(labels_path, intensities_path, size=300)"
   ]
  },
  {
   "cell_type": "code",
   "execution_count": null,
   "id": "e4753ecf",
   "metadata": {},
   "outputs": [],
   "source": []
  },
  {
   "cell_type": "code",
   "execution_count": null,
   "id": "a6a5ad01",
   "metadata": {},
   "outputs": [],
   "source": [
    "from volume_gizmos import Triptych"
   ]
  },
  {
   "cell_type": "code",
   "execution_count": null,
   "id": "c9d910e9",
   "metadata": {},
   "outputs": [],
   "source": [
    "vol_path = \"../example_data/vis_male.npz\"\n",
    "panels = await Triptych.panels(vol_path, dI=1.5, dJ=1, dK=1, size=300)"
   ]
  },
  {
   "cell_type": "code",
   "execution_count": null,
   "id": "28d62f6e",
   "metadata": {},
   "outputs": [],
   "source": []
  }
 ],
 "metadata": {
  "kernelspec": {
   "display_name": "Python 3 (ipykernel)",
   "language": "python",
   "name": "python3"
  },
  "language_info": {
   "codemirror_mode": {
    "name": "ipython",
    "version": 3
   },
   "file_extension": ".py",
   "mimetype": "text/x-python",
   "name": "python",
   "nbconvert_exporter": "python",
   "pygments_lexer": "ipython3",
   "version": "3.9.13"
  }
 },
 "nbformat": 4,
 "nbformat_minor": 5
}
