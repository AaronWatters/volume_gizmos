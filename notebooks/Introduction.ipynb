{
 "cells": [
  {
   "cell_type": "markdown",
   "id": "41f9fedc",
   "metadata": {},
   "source": [
    "This notebook illustrates how to launch the volume visualizations in Jupyter notebooks."
   ]
  },
  {
   "cell_type": "code",
   "execution_count": 1,
   "id": "d9ac404d",
   "metadata": {},
   "outputs": [],
   "source": [
    "from volume_gizmos import SegmentationQuad"
   ]
  },
  {
   "cell_type": "code",
   "execution_count": 5,
   "id": "721ea6a6",
   "metadata": {},
   "outputs": [
    {
     "name": "stdout",
     "output_type": "stream",
     "text": [
      "hex_colors ['0x0', '0xffff', '0xff0000ff', '0xff00ff', '0xff1ab8ff', '0xffd300ff', '0x83f6ff', '0x8c46ff', '0xa7603dff']\n"
     ]
    },
    {
     "data": {
      "text/html": [
       "\n",
       "\n",
       "<iframe id=\"gizmo_iframe_1715093097954_76\"\n",
       "    title=\"gizmo_iframe_1715093097954_76\"\n",
       "    width=\"100%\"\n",
       "    height=\"20px\"\n",
       "    src='about:blank'\n",
       "    allow=\"camera;microphone;display-capture;autoplay\"\n",
       "> </iframe>\n",
       "\n",
       "<script>\n",
       "(function () {\n",
       "\n",
       "function suffix_at(from_url, suffix, at_strings) {\n",
       "    // for example\n",
       "    //  var url = \"http://localhost:8888/notebooks/repos/H5Gizmos/doc/Demo.ipynb\";\n",
       "    //  var at_strings = [\"notebooks/\", \"lab/\"];\n",
       "    //  var suffix = \"GizmoLink/connect/50732/gizmo/http/MGR_1702413571757_3/index.html\";\n",
       "    //  suffix_at(url, suffix, at_strings)\n",
       "    //   ==> http://localhost:8888/GizmoLink/connect/50732/gizmo/http/MGR_1702413571757_3/index.html\n",
       "    at_strings = at_strings || [\"notebooks/\", \"lab/\"];\n",
       "    var prefix = from_url;\n",
       "    for (var splitter of at_strings) {\n",
       "        var prefix0 = from_url.split(splitter)[0];\n",
       "        if (prefix0.length < prefix.length) {\n",
       "            //console.log(\"choosing prefix\", prefix0, splitter)\n",
       "            prefix = prefix0;\n",
       "        }\n",
       "    }\n",
       "    if (prefix.length >= from_url.length) {\n",
       "        throw new Error(\"no split found: \" + from_url);\n",
       "    }\n",
       "    //console.log(\"chose prefix\", prefix, prefix.length, from_url.length);\n",
       "    return prefix + suffix;\n",
       "};\n",
       "\n",
       "\n",
       "function event_listener(e) {\n",
       "    if ((this_frame) && (this_frame.contentWindow === e.source)) {\n",
       "        var height = Math.max(min_height, e.data.height + margin)\n",
       "        var height_px = (height) + \"px\";\n",
       "        this_frame.height = height_px;\n",
       "        this_frame.style.height = height_px;\n",
       "    }\n",
       "};\n",
       "\n",
       "    var identifier = \"gizmo_iframe_1715093097954_76\";\n",
       "    var suffix = \"GizmoLink/connect/51328/gizmo/http/MGR_1715093097950_59/index.html\"\n",
       "    var margin = 10;\n",
       "    var min_height = 20;\n",
       "    window.addEventListener(\"message\", event_listener);\n",
       "    var this_frame = document.getElementById(identifier);\n",
       "    var url = suffix_at(window.location.href, suffix);\n",
       "    this_frame.src = url;\n",
       "}) ();\n",
       "</script>\n"
      ],
      "text/plain": [
       "<IPython.core.display.HTML object>"
      ]
     },
     "metadata": {},
     "output_type": "display_data"
    }
   ],
   "source": [
    "# Segmentation quad from NPZ data\n",
    "labels_path = \"../example_data/l24.npz\"\n",
    "intensities_path = \"../example_data/i24.npz\"\n",
    "quad = await SegmentationQuad.quad(labels_path, intensities_path, size=400)"
   ]
  },
  {
   "cell_type": "code",
   "execution_count": 3,
   "id": "936afcf1",
   "metadata": {},
   "outputs": [
    {
     "name": "stdout",
     "output_type": "stream",
     "text": [
      "hex_colors ['0x0', '0xffff', '0xff0000ff', '0xff00ff', '0xff1ab8ff', '0xffd300ff', '0x83f6ff', '0x8c46ff', '0xa7603dff', '0x4f0069ff', '0xfff6ff', '0x3d7b8cff', '0xeda7ffff', '0xd3ff95ff', '0xb84fffff', '0xe41a57ff', '0x838300ff', '0xff95ff']\n"
     ]
    },
    {
     "data": {
      "text/html": [
       "\n",
       "\n",
       "<iframe id=\"gizmo_iframe_1715093043891_38\"\n",
       "    title=\"gizmo_iframe_1715093043891_38\"\n",
       "    width=\"100%\"\n",
       "    height=\"20px\"\n",
       "    src='about:blank'\n",
       "    allow=\"camera;microphone;display-capture;autoplay\"\n",
       "> </iframe>\n",
       "\n",
       "<script>\n",
       "(function () {\n",
       "\n",
       "function suffix_at(from_url, suffix, at_strings) {\n",
       "    // for example\n",
       "    //  var url = \"http://localhost:8888/notebooks/repos/H5Gizmos/doc/Demo.ipynb\";\n",
       "    //  var at_strings = [\"notebooks/\", \"lab/\"];\n",
       "    //  var suffix = \"GizmoLink/connect/50732/gizmo/http/MGR_1702413571757_3/index.html\";\n",
       "    //  suffix_at(url, suffix, at_strings)\n",
       "    //   ==> http://localhost:8888/GizmoLink/connect/50732/gizmo/http/MGR_1702413571757_3/index.html\n",
       "    at_strings = at_strings || [\"notebooks/\", \"lab/\"];\n",
       "    var prefix = from_url;\n",
       "    for (var splitter of at_strings) {\n",
       "        var prefix0 = from_url.split(splitter)[0];\n",
       "        if (prefix0.length < prefix.length) {\n",
       "            //console.log(\"choosing prefix\", prefix0, splitter)\n",
       "            prefix = prefix0;\n",
       "        }\n",
       "    }\n",
       "    if (prefix.length >= from_url.length) {\n",
       "        throw new Error(\"no split found: \" + from_url);\n",
       "    }\n",
       "    //console.log(\"chose prefix\", prefix, prefix.length, from_url.length);\n",
       "    return prefix + suffix;\n",
       "};\n",
       "\n",
       "\n",
       "function event_listener(e) {\n",
       "    if ((this_frame) && (this_frame.contentWindow === e.source)) {\n",
       "        var height = Math.max(min_height, e.data.height + margin)\n",
       "        var height_px = (height) + \"px\";\n",
       "        this_frame.height = height_px;\n",
       "        this_frame.style.height = height_px;\n",
       "    }\n",
       "};\n",
       "\n",
       "    var identifier = \"gizmo_iframe_1715093043891_38\";\n",
       "    var suffix = \"GizmoLink/connect/51328/gizmo/http/MGR_1715093043888_21/index.html\"\n",
       "    var margin = 10;\n",
       "    var min_height = 20;\n",
       "    window.addEventListener(\"message\", event_listener);\n",
       "    var this_frame = document.getElementById(identifier);\n",
       "    var url = suffix_at(window.location.href, suffix);\n",
       "    this_frame.src = url;\n",
       "}) ();\n",
       "</script>\n"
      ],
      "text/plain": [
       "<IPython.core.display.HTML object>"
      ]
     },
     "metadata": {},
     "output_type": "display_data"
    }
   ],
   "source": [
    "# Segmentation quad from KLB data (install pyklb separately, please)\n",
    "klb_labels = \"../example_data/klbOut_Cam_Long_00030.crop_cp_masks.klb\"\n",
    "klb_intensities = \"../example_data/klbOut_Cam_Long_00030.crop.klb\"\n",
    "quad = await SegmentationQuad.quad(klb_labels, klb_intensities, size=300)"
   ]
  },
  {
   "cell_type": "code",
   "execution_count": null,
   "id": "5f0d349a",
   "metadata": {},
   "outputs": [],
   "source": [
    "from volume_gizmos import Triptych"
   ]
  },
  {
   "cell_type": "code",
   "execution_count": null,
   "id": "b7a0d605",
   "metadata": {},
   "outputs": [],
   "source": [
    "vol_path = \"../example_data/vis_male.npz\"\n",
    "panels = await Triptych.panels(vol_path, dI=1.5, dJ=1, dK=1, size=300)"
   ]
  },
  {
   "cell_type": "code",
   "execution_count": null,
   "id": "cb242e46",
   "metadata": {},
   "outputs": [],
   "source": []
  }
 ],
 "metadata": {
  "kernelspec": {
   "display_name": "Python 3 (ipykernel)",
   "language": "python",
   "name": "python3"
  },
  "language_info": {
   "codemirror_mode": {
    "name": "ipython",
    "version": 3
   },
   "file_extension": ".py",
   "mimetype": "text/x-python",
   "name": "python",
   "nbconvert_exporter": "python",
   "pygments_lexer": "ipython3",
   "version": "3.9.13"
  }
 },
 "nbformat": 4,
 "nbformat_minor": 5
}
