{
 "cells": [
  {
   "cell_type": "markdown",
   "id": "519f7084-32f9-466d-b0e0-10b4ed459d7f",
   "metadata": {},
   "source": [
    "# Construct and view a volume \n",
    "\n",
    "This notebook demonstrates how to display \"Triptych\" views of a numeric 3d volume.\n",
    "\n",
    "The left panel is a \"quick and dirty\" isosurface for the specified level.\n",
    "\n",
    "The middle panel is a max-value projection.\n",
    "\n",
    "The right panel is a slice through the volume at the specified depth.\n",
    "\n",
    "The gizmos can be displayed \"inline\" or using a separate browser tab, as shown."
   ]
  },
  {
   "cell_type": "code",
   "execution_count": null,
   "id": "36e5c9de-093f-4e86-b19c-2d1639d4430e",
   "metadata": {},
   "outputs": [],
   "source": [
    "import numpy as np"
   ]
  },
  {
   "cell_type": "code",
   "execution_count": null,
   "id": "57e37944-dab6-4d3e-b7c0-0b95aa547ee4",
   "metadata": {},
   "outputs": [],
   "source": [
    "shape = [100, 100, 100]\n",
    "i_ind, j_ind, k_ind = np.indices(shape)\n",
    "volume = np.sin((i_ind - 5)/30 + 0.5) * np.cos((j_ind + 21)/25 - 0.3) * np.sin( (i_ind + k_ind + 66) / 50 + 1.2 ) % 0.3\n",
    "volume.min(), volume.max()"
   ]
  },
  {
   "cell_type": "code",
   "execution_count": null,
   "id": "1fe4abf7-fc98-467d-8a50-03722193239a",
   "metadata": {},
   "outputs": [],
   "source": [
    "from volume_gizmos.Triptych import Triptych"
   ]
  },
  {
   "cell_type": "code",
   "execution_count": null,
   "id": "0b311612-1fae-4cb5-9714-d3467642959e",
   "metadata": {},
   "outputs": [],
   "source": [
    "# \"inline\"\n",
    "T = Triptych(volume, size=200)\n",
    "await T.show()\n"
   ]
  },
  {
   "cell_type": "code",
   "execution_count": null,
   "id": "818e89a7-77c1-4070-8ab4-86f88d183bc9",
   "metadata": {},
   "outputs": [],
   "source": [
    "# using an external browser tab\n",
    "T2 = Triptych(volume, size=400)\n",
    "await T2.link()"
   ]
  },
  {
   "cell_type": "code",
   "execution_count": 5,
   "id": "7661670f-d9dc-4444-a943-7c4a120c9255",
   "metadata": {},
   "outputs": [
    {
     "data": {
      "text/plain": [
       "'/Users/awatters'"
      ]
     },
     "execution_count": 5,
     "metadata": {},
     "output_type": "execute_result"
    }
   ],
   "source": [
    "import os\n",
    "os.path.abspath(\".\")\n"
   ]
  },
  {
   "cell_type": "code",
   "execution_count": null,
   "id": "08273cd5-a91d-4cb3-b7ab-1a9eda7f8d06",
   "metadata": {},
   "outputs": [],
   "source": []
  }
 ],
 "metadata": {
  "kernelspec": {
   "display_name": "Python 3 (ipykernel)",
   "language": "python",
   "name": "python3"
  },
  "language_info": {
   "codemirror_mode": {
    "name": "ipython",
    "version": 3
   },
   "file_extension": ".py",
   "mimetype": "text/x-python",
   "name": "python",
   "nbconvert_exporter": "python",
   "pygments_lexer": "ipython3",
   "version": "3.9.13"
  }
 },
 "nbformat": 4,
 "nbformat_minor": 5
}
